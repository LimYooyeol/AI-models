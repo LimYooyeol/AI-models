{
  "nbformat": 4,
  "nbformat_minor": 0,
  "metadata": {
    "colab": {
      "provenance": [],
      "toc_visible": true,
      "gpuType": "T4",
      "mount_file_id": "1ERVAE1xqpHJQJk-tUwYd-2-tD4WMB75l",
      "authorship_tag": "ABX9TyNUUb2yeRgfFI8H7STyhBzz",
      "include_colab_link": true
    },
    "kernelspec": {
      "name": "python3",
      "display_name": "Python 3"
    },
    "language_info": {
      "name": "python"
    },
    "accelerator": "GPU"
  },
  "cells": [
    {
      "cell_type": "markdown",
      "metadata": {
        "id": "view-in-github",
        "colab_type": "text"
      },
      "source": [
        "<a href=\"https://colab.research.google.com/github/LimYooyeol/AI-models/blob/main/NLP/classification/RNN.ipynb\" target=\"_parent\"><img src=\"https://colab.research.google.com/assets/colab-badge.svg\" alt=\"Open In Colab\"/></a>"
      ]
    },
    {
      "cell_type": "markdown",
      "source": [
        "# Load Libary"
      ],
      "metadata": {
        "id": "ow13bYSUOY3Z"
      }
    },
    {
      "cell_type": "code",
      "source": [
        "import os\n",
        "from google.colab import drive\n",
        "\n",
        "os.environ['CUDA_LAUNCH_BLOCKING'] = \"1\"\n",
        "drive.mount('/content/drive')"
      ],
      "metadata": {
        "id": "vpKOl6YlpRRD",
        "colab": {
          "base_uri": "https://localhost:8080/"
        },
        "outputId": "6a53cfbb-9bb6-4c5d-eeac-2b662e21d4b3"
      },
      "execution_count": 1,
      "outputs": [
        {
          "output_type": "stream",
          "name": "stdout",
          "text": [
            "Mounted at /content/drive\n"
          ]
        }
      ]
    },
    {
      "cell_type": "code",
      "execution_count": 2,
      "metadata": {
        "id": "9PmB01zLMQYk"
      },
      "outputs": [],
      "source": [
        "import numpy as np\n",
        "import pandas as pd\n",
        "import torch\n",
        "import torch.nn as nn\n",
        "import torch.optim as optim\n",
        "import urllib.request\n",
        "from sklearn.model_selection import train_test_split"
      ]
    },
    {
      "cell_type": "code",
      "source": [
        "device = torch.device(\"cuda\" if torch.cuda.is_available() else \"cpu\")\n",
        "print(device)"
      ],
      "metadata": {
        "colab": {
          "base_uri": "https://localhost:8080/"
        },
        "id": "TlewGAKHRA-b",
        "outputId": "93568dfc-78f0-4e70-ffc9-8269ddb65ce1"
      },
      "execution_count": 3,
      "outputs": [
        {
          "output_type": "stream",
          "name": "stdout",
          "text": [
            "cuda\n"
          ]
        }
      ]
    },
    {
      "cell_type": "markdown",
      "source": [
        "# 데이터 로드"
      ],
      "metadata": {
        "id": "dT4ChprCO7Q_"
      }
    },
    {
      "cell_type": "code",
      "source": [
        "## -- 최초 로딩 방법 --\n",
        "# urllib.request.urlretrieve(\"https://raw.githubusercontent.com/ukairia777/pytorch-nlp-tutorial/main/10.%20RNN%20Text%20Classification/dataset/IMDB%20Dataset.csv\", filename=\"IMDB Dataset.csv\")\n",
        "# df = pd.read_csv('IMDB Dataset.csv')\n",
        "# df"
      ],
      "metadata": {
        "id": "GDLIseznTh6r"
      },
      "execution_count": 4,
      "outputs": []
    },
    {
      "cell_type": "code",
      "source": [
        "from ast import literal_eval\n",
        "df = pd.read_csv('drive/MyDrive/AI-models/data/imbd_tokenized.csv')\n",
        "df['tokenized'] = df['tokenized'].apply(literal_eval)"
      ],
      "metadata": {
        "id": "xX_WY8dQZGVu"
      },
      "execution_count": 5,
      "outputs": []
    },
    {
      "cell_type": "markdown",
      "source": [
        "# 데이터 전처리(인코딩)"
      ],
      "metadata": {
        "id": "dNgim0fGaVKV"
      }
    },
    {
      "cell_type": "markdown",
      "source": [
        "## 모드 설정"
      ],
      "metadata": {
        "id": "4YLiprHkNpbm"
      }
    },
    {
      "cell_type": "code",
      "source": [
        "mode = 'real'\n",
        "#mode = 'debug'"
      ],
      "metadata": {
        "id": "qmgbrSbdNrBw"
      },
      "execution_count": 6,
      "outputs": []
    },
    {
      "cell_type": "markdown",
      "source": [
        "## 라벨 변경 (text -> int), 토큰화(by spacy)"
      ],
      "metadata": {
        "id": "EfbiCbe6bFod"
      }
    },
    {
      "cell_type": "code",
      "source": [
        "# -- 라벨 변경 및 토큰화 방법 --\n",
        "# -- 최초 실행 후 저장된 파일 이용 --\n",
        "\n",
        "# import spacy\n",
        "\n",
        "# df['sentiment'] = np.where(df['sentiment'] == 'positive', 1, 0)\n",
        "\n",
        "# nlp = spacy.load(\"en_core_web_sm\", disable = ['ner', 'parser'])\n",
        "\n",
        "# def tokenize(text):\n",
        "#   doc = nlp(text)\n",
        "#   return [token.text for token in doc]\n",
        "\n",
        "# df['tokenized'] = df['review'].apply(tokenize)\n",
        "\n",
        "# df.head(5)\n",
        "\n",
        "# df.to_csv('drive/MyDrive/AI-modles/data/imbd_tokenized.csv')"
      ],
      "metadata": {
        "id": "8zTUIO8RaTYk"
      },
      "execution_count": 7,
      "outputs": []
    },
    {
      "cell_type": "markdown",
      "source": [
        "## Split (vocab 학습 시 leakage 예방)"
      ],
      "metadata": {
        "id": "hjrtamX2leei"
      }
    },
    {
      "cell_type": "code",
      "source": [
        "temp_df = []\n",
        "if mode == 'debug' :\n",
        "  temp_df = df[:1000] # -> 로직 검증 시 적은 데이터 사용 시\n",
        "elif mode == 'real':\n",
        "  temp_df = df[:20000]\n",
        "X_train, X_test, y_train, y_test = train_test_split(temp_df[['tokenized']], temp_df[['sentiment']], random_state = 0, test_size = 0.2)\n",
        "X_train"
      ],
      "metadata": {
        "id": "euHWHittjKf2",
        "colab": {
          "base_uri": "https://localhost:8080/",
          "height": 423
        },
        "outputId": "9fe4e735-06e0-462c-9067-18ba5929b701"
      },
      "execution_count": 8,
      "outputs": [
        {
          "output_type": "execute_result",
          "data": {
            "text/plain": [
              "                                               tokenized\n",
              "17815  [I, do, n't, see, why, all, the, people, are, ...\n",
              "18370  [The, Shining, is, a, weird, example, of, adap...\n",
              "1379   [The, poet, Carne, disappears, (, didn´t, he, ...\n",
              "14763  [Let, 's, face, it, :, the, final, season, (, ...\n",
              "7346   [I, saw, this, stage, show, when, it, was, bro...\n",
              "...                                                  ...\n",
              "13123  [Let, me, tell, you, something, about, this, m...\n",
              "19648  [Intrigued, by, the, synopsis, (, every, gay, ...\n",
              "9845   [I, try, to, watch, it, everyday, most, of, th...\n",
              "10799  [I, loved, this, movie, from, beginning, to, e...\n",
              "2732   [AG, was, an, excellent, presentation, of, dra...\n",
              "\n",
              "[16000 rows x 1 columns]"
            ],
            "text/html": [
              "\n",
              "  <div id=\"df-399c9616-3717-4fb8-82e2-64f4ea53f5f6\" class=\"colab-df-container\">\n",
              "    <div>\n",
              "<style scoped>\n",
              "    .dataframe tbody tr th:only-of-type {\n",
              "        vertical-align: middle;\n",
              "    }\n",
              "\n",
              "    .dataframe tbody tr th {\n",
              "        vertical-align: top;\n",
              "    }\n",
              "\n",
              "    .dataframe thead th {\n",
              "        text-align: right;\n",
              "    }\n",
              "</style>\n",
              "<table border=\"1\" class=\"dataframe\">\n",
              "  <thead>\n",
              "    <tr style=\"text-align: right;\">\n",
              "      <th></th>\n",
              "      <th>tokenized</th>\n",
              "    </tr>\n",
              "  </thead>\n",
              "  <tbody>\n",
              "    <tr>\n",
              "      <th>17815</th>\n",
              "      <td>[I, do, n't, see, why, all, the, people, are, ...</td>\n",
              "    </tr>\n",
              "    <tr>\n",
              "      <th>18370</th>\n",
              "      <td>[The, Shining, is, a, weird, example, of, adap...</td>\n",
              "    </tr>\n",
              "    <tr>\n",
              "      <th>1379</th>\n",
              "      <td>[The, poet, Carne, disappears, (, didn´t, he, ...</td>\n",
              "    </tr>\n",
              "    <tr>\n",
              "      <th>14763</th>\n",
              "      <td>[Let, 's, face, it, :, the, final, season, (, ...</td>\n",
              "    </tr>\n",
              "    <tr>\n",
              "      <th>7346</th>\n",
              "      <td>[I, saw, this, stage, show, when, it, was, bro...</td>\n",
              "    </tr>\n",
              "    <tr>\n",
              "      <th>...</th>\n",
              "      <td>...</td>\n",
              "    </tr>\n",
              "    <tr>\n",
              "      <th>13123</th>\n",
              "      <td>[Let, me, tell, you, something, about, this, m...</td>\n",
              "    </tr>\n",
              "    <tr>\n",
              "      <th>19648</th>\n",
              "      <td>[Intrigued, by, the, synopsis, (, every, gay, ...</td>\n",
              "    </tr>\n",
              "    <tr>\n",
              "      <th>9845</th>\n",
              "      <td>[I, try, to, watch, it, everyday, most, of, th...</td>\n",
              "    </tr>\n",
              "    <tr>\n",
              "      <th>10799</th>\n",
              "      <td>[I, loved, this, movie, from, beginning, to, e...</td>\n",
              "    </tr>\n",
              "    <tr>\n",
              "      <th>2732</th>\n",
              "      <td>[AG, was, an, excellent, presentation, of, dra...</td>\n",
              "    </tr>\n",
              "  </tbody>\n",
              "</table>\n",
              "<p>16000 rows × 1 columns</p>\n",
              "</div>\n",
              "    <div class=\"colab-df-buttons\">\n",
              "\n",
              "  <div class=\"colab-df-container\">\n",
              "    <button class=\"colab-df-convert\" onclick=\"convertToInteractive('df-399c9616-3717-4fb8-82e2-64f4ea53f5f6')\"\n",
              "            title=\"Convert this dataframe to an interactive table.\"\n",
              "            style=\"display:none;\">\n",
              "\n",
              "  <svg xmlns=\"http://www.w3.org/2000/svg\" height=\"24px\" viewBox=\"0 -960 960 960\">\n",
              "    <path d=\"M120-120v-720h720v720H120Zm60-500h600v-160H180v160Zm220 220h160v-160H400v160Zm0 220h160v-160H400v160ZM180-400h160v-160H180v160Zm440 0h160v-160H620v160ZM180-180h160v-160H180v160Zm440 0h160v-160H620v160Z\"/>\n",
              "  </svg>\n",
              "    </button>\n",
              "\n",
              "  <style>\n",
              "    .colab-df-container {\n",
              "      display:flex;\n",
              "      gap: 12px;\n",
              "    }\n",
              "\n",
              "    .colab-df-convert {\n",
              "      background-color: #E8F0FE;\n",
              "      border: none;\n",
              "      border-radius: 50%;\n",
              "      cursor: pointer;\n",
              "      display: none;\n",
              "      fill: #1967D2;\n",
              "      height: 32px;\n",
              "      padding: 0 0 0 0;\n",
              "      width: 32px;\n",
              "    }\n",
              "\n",
              "    .colab-df-convert:hover {\n",
              "      background-color: #E2EBFA;\n",
              "      box-shadow: 0px 1px 2px rgba(60, 64, 67, 0.3), 0px 1px 3px 1px rgba(60, 64, 67, 0.15);\n",
              "      fill: #174EA6;\n",
              "    }\n",
              "\n",
              "    .colab-df-buttons div {\n",
              "      margin-bottom: 4px;\n",
              "    }\n",
              "\n",
              "    [theme=dark] .colab-df-convert {\n",
              "      background-color: #3B4455;\n",
              "      fill: #D2E3FC;\n",
              "    }\n",
              "\n",
              "    [theme=dark] .colab-df-convert:hover {\n",
              "      background-color: #434B5C;\n",
              "      box-shadow: 0px 1px 3px 1px rgba(0, 0, 0, 0.15);\n",
              "      filter: drop-shadow(0px 1px 2px rgba(0, 0, 0, 0.3));\n",
              "      fill: #FFFFFF;\n",
              "    }\n",
              "  </style>\n",
              "\n",
              "    <script>\n",
              "      const buttonEl =\n",
              "        document.querySelector('#df-399c9616-3717-4fb8-82e2-64f4ea53f5f6 button.colab-df-convert');\n",
              "      buttonEl.style.display =\n",
              "        google.colab.kernel.accessAllowed ? 'block' : 'none';\n",
              "\n",
              "      async function convertToInteractive(key) {\n",
              "        const element = document.querySelector('#df-399c9616-3717-4fb8-82e2-64f4ea53f5f6');\n",
              "        const dataTable =\n",
              "          await google.colab.kernel.invokeFunction('convertToInteractive',\n",
              "                                                    [key], {});\n",
              "        if (!dataTable) return;\n",
              "\n",
              "        const docLinkHtml = 'Like what you see? Visit the ' +\n",
              "          '<a target=\"_blank\" href=https://colab.research.google.com/notebooks/data_table.ipynb>data table notebook</a>'\n",
              "          + ' to learn more about interactive tables.';\n",
              "        element.innerHTML = '';\n",
              "        dataTable['output_type'] = 'display_data';\n",
              "        await google.colab.output.renderOutput(dataTable, element);\n",
              "        const docLink = document.createElement('div');\n",
              "        docLink.innerHTML = docLinkHtml;\n",
              "        element.appendChild(docLink);\n",
              "      }\n",
              "    </script>\n",
              "  </div>\n",
              "\n",
              "\n",
              "<div id=\"df-d8bff5a4-e24d-4aa6-8b70-137c0f21b7b6\">\n",
              "  <button class=\"colab-df-quickchart\" onclick=\"quickchart('df-d8bff5a4-e24d-4aa6-8b70-137c0f21b7b6')\"\n",
              "            title=\"Suggest charts.\"\n",
              "            style=\"display:none;\">\n",
              "\n",
              "<svg xmlns=\"http://www.w3.org/2000/svg\" height=\"24px\"viewBox=\"0 0 24 24\"\n",
              "     width=\"24px\">\n",
              "    <g>\n",
              "        <path d=\"M19 3H5c-1.1 0-2 .9-2 2v14c0 1.1.9 2 2 2h14c1.1 0 2-.9 2-2V5c0-1.1-.9-2-2-2zM9 17H7v-7h2v7zm4 0h-2V7h2v10zm4 0h-2v-4h2v4z\"/>\n",
              "    </g>\n",
              "</svg>\n",
              "  </button>\n",
              "\n",
              "<style>\n",
              "  .colab-df-quickchart {\n",
              "      --bg-color: #E8F0FE;\n",
              "      --fill-color: #1967D2;\n",
              "      --hover-bg-color: #E2EBFA;\n",
              "      --hover-fill-color: #174EA6;\n",
              "      --disabled-fill-color: #AAA;\n",
              "      --disabled-bg-color: #DDD;\n",
              "  }\n",
              "\n",
              "  [theme=dark] .colab-df-quickchart {\n",
              "      --bg-color: #3B4455;\n",
              "      --fill-color: #D2E3FC;\n",
              "      --hover-bg-color: #434B5C;\n",
              "      --hover-fill-color: #FFFFFF;\n",
              "      --disabled-bg-color: #3B4455;\n",
              "      --disabled-fill-color: #666;\n",
              "  }\n",
              "\n",
              "  .colab-df-quickchart {\n",
              "    background-color: var(--bg-color);\n",
              "    border: none;\n",
              "    border-radius: 50%;\n",
              "    cursor: pointer;\n",
              "    display: none;\n",
              "    fill: var(--fill-color);\n",
              "    height: 32px;\n",
              "    padding: 0;\n",
              "    width: 32px;\n",
              "  }\n",
              "\n",
              "  .colab-df-quickchart:hover {\n",
              "    background-color: var(--hover-bg-color);\n",
              "    box-shadow: 0 1px 2px rgba(60, 64, 67, 0.3), 0 1px 3px 1px rgba(60, 64, 67, 0.15);\n",
              "    fill: var(--button-hover-fill-color);\n",
              "  }\n",
              "\n",
              "  .colab-df-quickchart-complete:disabled,\n",
              "  .colab-df-quickchart-complete:disabled:hover {\n",
              "    background-color: var(--disabled-bg-color);\n",
              "    fill: var(--disabled-fill-color);\n",
              "    box-shadow: none;\n",
              "  }\n",
              "\n",
              "  .colab-df-spinner {\n",
              "    border: 2px solid var(--fill-color);\n",
              "    border-color: transparent;\n",
              "    border-bottom-color: var(--fill-color);\n",
              "    animation:\n",
              "      spin 1s steps(1) infinite;\n",
              "  }\n",
              "\n",
              "  @keyframes spin {\n",
              "    0% {\n",
              "      border-color: transparent;\n",
              "      border-bottom-color: var(--fill-color);\n",
              "      border-left-color: var(--fill-color);\n",
              "    }\n",
              "    20% {\n",
              "      border-color: transparent;\n",
              "      border-left-color: var(--fill-color);\n",
              "      border-top-color: var(--fill-color);\n",
              "    }\n",
              "    30% {\n",
              "      border-color: transparent;\n",
              "      border-left-color: var(--fill-color);\n",
              "      border-top-color: var(--fill-color);\n",
              "      border-right-color: var(--fill-color);\n",
              "    }\n",
              "    40% {\n",
              "      border-color: transparent;\n",
              "      border-right-color: var(--fill-color);\n",
              "      border-top-color: var(--fill-color);\n",
              "    }\n",
              "    60% {\n",
              "      border-color: transparent;\n",
              "      border-right-color: var(--fill-color);\n",
              "    }\n",
              "    80% {\n",
              "      border-color: transparent;\n",
              "      border-right-color: var(--fill-color);\n",
              "      border-bottom-color: var(--fill-color);\n",
              "    }\n",
              "    90% {\n",
              "      border-color: transparent;\n",
              "      border-bottom-color: var(--fill-color);\n",
              "    }\n",
              "  }\n",
              "</style>\n",
              "\n",
              "  <script>\n",
              "    async function quickchart(key) {\n",
              "      const quickchartButtonEl =\n",
              "        document.querySelector('#' + key + ' button');\n",
              "      quickchartButtonEl.disabled = true;  // To prevent multiple clicks.\n",
              "      quickchartButtonEl.classList.add('colab-df-spinner');\n",
              "      try {\n",
              "        const charts = await google.colab.kernel.invokeFunction(\n",
              "            'suggestCharts', [key], {});\n",
              "      } catch (error) {\n",
              "        console.error('Error during call to suggestCharts:', error);\n",
              "      }\n",
              "      quickchartButtonEl.classList.remove('colab-df-spinner');\n",
              "      quickchartButtonEl.classList.add('colab-df-quickchart-complete');\n",
              "    }\n",
              "    (() => {\n",
              "      let quickchartButtonEl =\n",
              "        document.querySelector('#df-d8bff5a4-e24d-4aa6-8b70-137c0f21b7b6 button');\n",
              "      quickchartButtonEl.style.display =\n",
              "        google.colab.kernel.accessAllowed ? 'block' : 'none';\n",
              "    })();\n",
              "  </script>\n",
              "</div>\n",
              "    </div>\n",
              "  </div>\n"
            ]
          },
          "metadata": {},
          "execution_count": 8
        }
      ]
    },
    {
      "cell_type": "markdown",
      "source": [
        "## Vocab 생성"
      ],
      "metadata": {
        "id": "mevsfFmCmA5a"
      }
    },
    {
      "cell_type": "code",
      "source": [
        "from collections import Counter\n",
        "\n",
        "# Counter 이용해서,\n",
        "# 학습 데이터에 등장하는 단어 카운트(dict)\n",
        "# ex) 'the' : 2004\n",
        "\n",
        "word_list = []\n",
        "for sent in X_train['tokenized']:\n",
        "  for word in sent :\n",
        "    word_list.append(word)\n",
        "\n",
        "word_counts = Counter(word_list)"
      ],
      "metadata": {
        "id": "jSlk-sn4mCTv"
      },
      "execution_count": 9,
      "outputs": []
    },
    {
      "cell_type": "code",
      "source": [
        "# vocabulary 생성\n",
        "\n",
        "vocab = sorted(word_counts, key = word_counts.get, reverse=True)\n",
        "\n",
        "threshold = 3\n",
        "total_cnt = len(word_counts) # 단어의 수\n",
        "rare_cnt = 0 # 등장 빈도수가 threshold보다 작은 단어의 개수를 카운트\n",
        "total_freq = 0 # 훈련 데이터의 전체 단어 빈도수 총 합\n",
        "rare_freq = 0 # 등장 빈도수가 threshold보다 작은 단어의 등장 빈도수의 총 합\n",
        "\n",
        "# 단어와 빈도수의 쌍(pair)을 key와 value로 받는다.\n",
        "for key, value in word_counts.items():\n",
        "    total_freq = total_freq + value\n",
        "\n",
        "    # 단어의 등장 빈도수가 threshold보다 작으면\n",
        "    if(value < threshold):\n",
        "        rare_cnt = rare_cnt + 1\n",
        "        rare_freq = rare_freq + value\n",
        "\n",
        "print('단어 집합(vocabulary)의 크기 :',total_cnt)\n",
        "print('등장 빈도가 %s번 이하인 희귀 단어의 수: %s'%(threshold - 1, rare_cnt))\n",
        "print(\"단어 집합에서 희귀 단어의 비율:\", (rare_cnt / total_cnt)*100)\n",
        "print(\"전체 등장 빈도에서 희귀 단어 등장 빈도 비율:\", (rare_freq / total_freq)*100)\n"
      ],
      "metadata": {
        "colab": {
          "base_uri": "https://localhost:8080/"
        },
        "id": "mmO4I_C4nVQ1",
        "outputId": "ce023f9b-224e-4a84-c02b-24284d927224"
      },
      "execution_count": 10,
      "outputs": [
        {
          "output_type": "stream",
          "name": "stdout",
          "text": [
            "단어 집합(vocabulary)의 크기 : 98552\n",
            "등장 빈도가 2번 이하인 희귀 단어의 수: 59307\n",
            "단어 집합에서 희귀 단어의 비율: 60.17838298563195\n",
            "전체 등장 빈도에서 희귀 단어 등장 빈도 비율: 1.6672484331759159\n"
          ]
        }
      ]
    },
    {
      "cell_type": "code",
      "source": [
        "# 전체 단어 개수 중 빈도수 2이하인 단어는 제거.\n",
        "if (mode == 'real') or ((rare_freq / total_freq)*100 < 20.0) :\n",
        "  vocab_size = total_cnt - rare_cnt\n",
        "  vocab = vocab[:vocab_size]\n",
        "  print('단어 집합의 크기 :', len(vocab))"
      ],
      "metadata": {
        "colab": {
          "base_uri": "https://localhost:8080/"
        },
        "id": "RTu8dzKdn9zw",
        "outputId": "202a6289-ce83-45a7-a4bc-18d92a154fc7"
      },
      "execution_count": 11,
      "outputs": [
        {
          "output_type": "stream",
          "name": "stdout",
          "text": [
            "단어 집합의 크기 : 39245\n"
          ]
        }
      ]
    },
    {
      "cell_type": "markdown",
      "source": [
        "## 정수 인코딩"
      ],
      "metadata": {
        "id": "PMtCFSfMuZbY"
      }
    },
    {
      "cell_type": "code",
      "source": [
        "word_to_index = {}\n",
        "word_to_index['<PAD>'] = 0\n",
        "word_to_index['<UNK>'] = 1\n",
        "\n",
        "for index, word in enumerate(vocab) :\n",
        "  word_to_index[word] = index + 2\n",
        "\n",
        "vocab_size = len(word_to_index)\n",
        "\n",
        "def integer_encoding(tokenized_text, word_to_index):\n",
        "  encoded = []\n",
        "\n",
        "  for word in tokenized_text:\n",
        "    try:\n",
        "      encoded.append(word_to_index[word])\n",
        "    except KeyError:\n",
        "      encoded.append(word_to_index['<UNK>'])\n",
        "\n",
        "  return encoded\n",
        "\n",
        "X_train['encoded'] = X_train['tokenized'].apply(lambda x : integer_encoding(x, word_to_index))\n",
        "X_test['encoded'] = X_test['tokenized'].apply(lambda x : integer_encoding(x, word_to_index))"
      ],
      "metadata": {
        "id": "WhsQu2VBrZWf"
      },
      "execution_count": 12,
      "outputs": []
    },
    {
      "cell_type": "markdown",
      "source": [
        "## 패딩"
      ],
      "metadata": {
        "id": "pksnn-trz1ce"
      }
    },
    {
      "cell_type": "code",
      "source": [
        "import matplotlib.pyplot as plt\n",
        "\n",
        "plt.hist(X_train['encoded'].apply(lambda x : len(x)))"
      ],
      "metadata": {
        "colab": {
          "base_uri": "https://localhost:8080/",
          "height": 520
        },
        "id": "HjK2Vq1Oy89W",
        "outputId": "b273c16c-b6fa-4264-82f3-98e4033db662"
      },
      "execution_count": 13,
      "outputs": [
        {
          "output_type": "execute_result",
          "data": {
            "text/plain": [
              "(array([8.470e+03, 4.816e+03, 1.545e+03, 6.400e+02, 3.320e+02, 1.760e+02,\n",
              "        1.300e+01, 2.000e+00, 3.000e+00, 3.000e+00]),\n",
              " array([  11. ,  209.5,  408. ,  606.5,  805. , 1003.5, 1202. , 1400.5,\n",
              "        1599. , 1797.5, 1996. ]),\n",
              " <BarContainer object of 10 artists>)"
            ]
          },
          "metadata": {},
          "execution_count": 13
        },
        {
          "output_type": "display_data",
          "data": {
            "text/plain": [
              "<Figure size 640x480 with 1 Axes>"
            ],
            "image/png": "[encoded data removed]"
          },
          "metadata": {}
        }
      ]
    },
    {
      "cell_type": "code",
      "source": [
        "sentence_length = 600\n",
        "\n",
        "# post padding\n",
        "# prev가 좋다는 듯\n",
        "def prev_padding(sentence, max_len) :\n",
        "  padded = np.zeros(max_len, dtype = np.int32)\n",
        "\n",
        "  if len(sentence) > max_len :\n",
        "    padded = sentence[:max_len]\n",
        "  else :\n",
        "    padded[max_len - len(sentence):] = sentence\n",
        "\n",
        "  # post padding\n",
        "  # if len(sentence) != 0 :\n",
        "  #   padded[:len(sentence)] = sentence[:max_len]\n",
        "\n",
        "  return padded\n",
        "\n",
        "\n",
        "X_train['encoded_padding'] = X_train['encoded'].apply(lambda x : prev_padding(x, sentence_length))\n",
        "X_test['encoded_padding'] = X_test['encoded'].apply(lambda x : prev_padding(x, sentence_length))"
      ],
      "metadata": {
        "id": "e1leudSizw-x"
      },
      "execution_count": 14,
      "outputs": []
    },
    {
      "cell_type": "markdown",
      "source": [
        "# 모델링"
      ],
      "metadata": {
        "id": "OzdToqFxu30p"
      }
    },
    {
      "cell_type": "markdown",
      "source": [
        "## 모델 정의"
      ],
      "metadata": {
        "id": "g-aC3rjSu6Zj"
      }
    },
    {
      "cell_type": "code",
      "source": [
        "class TextRNNClassifier(nn.Module) :\n",
        "\n",
        "  # vocab_size :\n",
        "  # embedding_dim :\n",
        "  # hidden_dim :\n",
        "  # output_dim :\n",
        "\n",
        "  def __init__(self, vocab_size, embedding_dim, hidden_dim, output_dim) :\n",
        "    super(TextRNNClassifier, self).__init__()\n",
        "\n",
        "    # Vocab Size X E\n",
        "    # Embedding[i] : i-th 단어에 대한 임베딩 벡터 (shape: 1 X E)\n",
        "    self.embedding = nn.Embedding(vocab_size, embedding_dim)\n",
        "\n",
        "    # input_size: 단어 벡터 길이 (E)\n",
        "    # hidden_size: RNN 출력 차원 (H)\n",
        "    # --> input X W = (N X L x E) X (E x H) --> N X L X H,\n",
        "    # 최종 output: L X N X H\n",
        "    self.rnn = nn.RNN(input_size = embedding_dim, hidden_size = hidden_dim, num_layers = 2, batch_first = True)\n",
        "\n",
        "    self.ff = nn.Linear(hidden_dim, output_dim)\n",
        "\n",
        "    self.softmax = nn.Softmax(dim=-1)\n",
        "\n",
        "  def forward(self, text) :\n",
        "    # text: N X L\n",
        "\n",
        "    embedded = self.embedding(text)\n",
        "    # N X L X E\n",
        "\n",
        "    output, hn = self.rnn(embedded) # * batch_first = true\n",
        "    # output  -> N X L X H\n",
        "    # hn      -> num_layers X N X H\n",
        "\n",
        "    # ff: H X O\n",
        "    # output: N X O\n",
        "    # return self.softmax(self.ff(hn[-1]))\n",
        "\n",
        "    result = self.ff(hn[-1])\n",
        "\n",
        "    return result, self.softmax(result)\n"
      ],
      "metadata": {
        "id": "omf3o7tWu8qo"
      },
      "execution_count": 15,
      "outputs": []
    },
    {
      "cell_type": "markdown",
      "source": [
        "## 데이터, 데이터로더"
      ],
      "metadata": {
        "id": "86xCgY7GTg_L"
      }
    },
    {
      "cell_type": "code",
      "source": [
        "from torch.utils.data import Dataset, DataLoader\n",
        "\n",
        "class IMDBLoader(Dataset) :\n",
        "\n",
        "  def __init__(self, X, y) :\n",
        "    self.X = torch.tensor(np.array(X.values.tolist())).to(torch.int64).to(device)\n",
        "    self.y = torch.tensor(np.array(y.values.tolist())).to(torch.int64).to(device)\n",
        "\n",
        "  def __len__(self) :\n",
        "    return len(self.X)\n",
        "\n",
        "  def __getitem__(self, idx) :\n",
        "    return self.X[idx], self.y[idx]"
      ],
      "metadata": {
        "id": "80ADzMg_TjXO"
      },
      "execution_count": 16,
      "outputs": []
    },
    {
      "cell_type": "markdown",
      "source": [
        "## 정확도 평가 함수"
      ],
      "metadata": {
        "id": "LtugA_3jTi57"
      }
    },
    {
      "cell_type": "code",
      "source": [
        "# 평가 함수\n",
        "def test_accuracy(model, dataset) :\n",
        "  model.to(device)\n",
        "  model.eval()\n",
        "\n",
        "  correct = 0\n",
        "\n",
        "  for i in range(dataset.__len__()) :\n",
        "    X, y = dataset.__getitem__(i)\n",
        "\n",
        "    pred = model(X)\n",
        "\n",
        "    if torch.argmax(pred[1]) == y :\n",
        "      correct = correct + 1\n",
        "\n",
        "  return correct / dataset.__len__()\n"
      ],
      "metadata": {
        "id": "zddBwK4gH91u"
      },
      "execution_count": 17,
      "outputs": []
    },
    {
      "cell_type": "markdown",
      "source": [
        "## 학습"
      ],
      "metadata": {
        "id": "IqX8LKHrclvk"
      }
    },
    {
      "cell_type": "code",
      "source": [
        "def train(model, optimizer, train_dataloader, val_dataset, epochs = 10, accuracy = [], log = None, verbose = False) :\n",
        "  model = model.to(device)\n",
        "\n",
        "  for e in range(epochs) :\n",
        "    cur_acc = test_accuracy(model, val_dataset)\n",
        "    print('epoch :', e, '/ test accuracy :', test_accuracy(model, val_dataset))\n",
        "    accuracy.append(cur_acc)\n",
        "\n",
        "    model.train()\n",
        "    for i, (x, y) in enumerate(train_dataloader) :\n",
        "\n",
        "      pred = model(x)[0]\n",
        "\n",
        "      loss_func = nn.CrossEntropyLoss()\n",
        "      loss = loss_func(pred.to(torch.float32), y.squeeze(dim = -1))\n",
        "\n",
        "      optimizer.zero_grad()\n",
        "\n",
        "      loss.backward()\n",
        "\n",
        "      optimizer.step()\n",
        "\n",
        "      if verbose :\n",
        "        print(loss.item())\n",
        "      log.append(loss.item())\n",
        "    print(log[-1])\n",
        "\n",
        "  return accuracy, log"
      ],
      "metadata": {
        "id": "hDY_hhlBcDDN"
      },
      "execution_count": 38,
      "outputs": []
    },
    {
      "cell_type": "code",
      "source": [
        "import torch.optim as optim\n",
        "\n",
        "classifier = TextRNNClassifier(len(vocab) + 2, 100, 128, 2)"
      ],
      "metadata": {
        "id": "OkECR5dreuQO"
      },
      "execution_count": 39,
      "outputs": []
    },
    {
      "cell_type": "code",
      "source": [
        "train_dataset = IMDBLoader(X_train['encoded_padding'], y_train)\n",
        "test_dataset = IMDBLoader(X_test['encoded_padding'], y_test)\n",
        "\n",
        "# temp_data_size = 1000\n",
        "# train_dataset = IMDBLoader(X_train['encoded_padding'][:temp_data_size], y_train[:temp_data_size]) # 학습 테스트용\n",
        "train_dataloader = DataLoader(train_dataset, batch_size = 64, shuffle = True)"
      ],
      "metadata": {
        "id": "UyYj1344uOFK"
      },
      "execution_count": 40,
      "outputs": []
    },
    {
      "cell_type": "code",
      "source": [
        "classifier.to(device)\n",
        "# optimizer = optim.Adagrad(classifier.parameters(), lr = 0.001)\n",
        "optimizer = optim.Adam(classifier.parameters(), lr = 0.001)\n",
        "log = []\n",
        "accuracy = []\n",
        "result = train(classifier, optimizer, train_dataloader, test_dataset, 20, accuracy, log, False)"
      ],
      "metadata": {
        "id": "yLcT47PEfVWl",
        "colab": {
          "base_uri": "https://localhost:8080/"
        },
        "outputId": "ff3fd293-8b25-4b0e-80cd-a7fc32a200c3"
      },
      "execution_count": 41,
      "outputs": [
        {
          "output_type": "stream",
          "name": "stdout",
          "text": [
            "epoch : 0 / test accuracy : 0.50025\n",
            "0.6882162690162659\n",
            "epoch : 1 / test accuracy : 0.57225\n",
            "0.6276651620864868\n",
            "epoch : 2 / test accuracy : 0.65125\n",
            "0.4869828522205353\n",
            "epoch : 3 / test accuracy : 0.697\n",
            "0.4954491853713989\n",
            "epoch : 4 / test accuracy : 0.6985\n",
            "0.6802685856819153\n",
            "epoch : 5 / test accuracy : 0.6265\n",
            "0.6800821423530579\n",
            "epoch : 6 / test accuracy : 0.5435\n",
            "0.6304345726966858\n",
            "epoch : 7 / test accuracy : 0.59825\n",
            "0.6350432634353638\n",
            "epoch : 8 / test accuracy : 0.631\n",
            "0.6062156558036804\n",
            "epoch : 9 / test accuracy : 0.67375\n",
            "0.3838171362876892\n",
            "epoch : 10 / test accuracy : 0.69825\n",
            "0.6124094128608704\n",
            "epoch : 11 / test accuracy : 0.6775\n",
            "0.48412618041038513\n",
            "epoch : 12 / test accuracy : 0.70125\n",
            "0.5739521980285645\n",
            "epoch : 13 / test accuracy : 0.6685\n",
            "0.3981030583381653\n",
            "epoch : 14 / test accuracy : 0.71325\n",
            "0.34489476680755615\n",
            "epoch : 15 / test accuracy : 0.72475\n",
            "0.5295495390892029\n",
            "epoch : 16 / test accuracy : 0.65\n",
            "0.36685559153556824\n",
            "epoch : 17 / test accuracy : 0.693\n",
            "0.29996612668037415\n",
            "epoch : 18 / test accuracy : 0.71475\n",
            "0.3207177519798279\n",
            "epoch : 19 / test accuracy : 0.69925\n",
            "0.3790893256664276\n"
          ]
        }
      ]
    },
    {
      "cell_type": "code",
      "source": [
        "plt.plot(result[1])"
      ],
      "metadata": {
        "id": "z0XHx3-Cq7kc",
        "colab": {
          "base_uri": "https://localhost:8080/",
          "height": 448
        },
        "outputId": "5b637b4c-5eac-4ad5-d36f-045014a305a0"
      },
      "execution_count": 42,
      "outputs": [
        {
          "output_type": "execute_result",
          "data": {
            "text/plain": [
              "[<matplotlib.lines.Line2D at 0x799edfd2b100>]"
            ]
          },
          "metadata": {},
          "execution_count": 42
        },
        {
          "output_type": "display_data",
          "data": {
            "text/plain": [
              "<Figure size 640x480 with 1 Axes>"
            ],
            "image/png": "[encoded data removed]"
          },
          "metadata": {}
        }
      ]
    },
    {
      "cell_type": "code",
      "source": [
        "plt.plot(result[0])"
      ],
      "metadata": {
        "id": "35X1HCjZju_L",
        "colab": {
          "base_uri": "https://localhost:8080/",
          "height": 448
        },
        "outputId": "d6286617-35b4-4ff9-ae1b-5faa3eff5c3f"
      },
      "execution_count": 43,
      "outputs": [
        {
          "output_type": "execute_result",
          "data": {
            "text/plain": [
              "[<matplotlib.lines.Line2D at 0x799edfb278b0>]"
            ]
          },
          "metadata": {},
          "execution_count": 43
        },
        {
          "output_type": "display_data",
          "data": {
            "text/plain": [
              "<Figure size 640x480 with 1 Axes>"
            ],
            "image/png": "[encoded data removed]"
          },
          "metadata": {}
        }
      ]
    },
    {
      "cell_type": "code",
      "source": [],
      "metadata": {
        "id": "aqsrdQLjeNI0"
      },
      "execution_count": null,
      "outputs": []
    }
  ]
}